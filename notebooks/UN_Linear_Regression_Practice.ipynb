{
 "cells": [
  {
   "cell_type": "markdown",
   "id": "291fb755-434c-4a4b-9d89-faadb782ac9c",
   "metadata": {},
   "source": [
    "## UN Linear Regression Practice"
   ]
  },
  {
   "cell_type": "code",
   "execution_count": 116,
   "id": "291834d1-1a15-4ab0-8f78-50b3ad4ce0ea",
   "metadata": {},
   "outputs": [],
   "source": [
    "import pandas as pd\n",
    "import numpy as np\n",
    "import statsmodels.formula.api as smf\n",
    "import statsmodels.stats.api as sms\n",
    "import matplotlib.pyplot as plt"
   ]
  },
  {
   "cell_type": "code",
   "execution_count": 6,
   "id": "6944a4ef-0b81-4197-9ea4-7b9db4eeaf82",
   "metadata": {},
   "outputs": [
    {
     "data": {
      "text/html": [
       "<div>\n",
       "<style scoped>\n",
       "    .dataframe tbody tr th:only-of-type {\n",
       "        vertical-align: middle;\n",
       "    }\n",
       "\n",
       "    .dataframe tbody tr th {\n",
       "        vertical-align: top;\n",
       "    }\n",
       "\n",
       "    .dataframe thead th {\n",
       "        text-align: right;\n",
       "    }\n",
       "</style>\n",
       "<table border=\"1\" class=\"dataframe\">\n",
       "  <thead>\n",
       "    <tr style=\"text-align: right;\">\n",
       "      <th></th>\n",
       "      <th>Country</th>\n",
       "      <th>Year</th>\n",
       "      <th>GDP_Per_Capita</th>\n",
       "      <th>Continent</th>\n",
       "      <th>Life_Expectancy</th>\n",
       "    </tr>\n",
       "  </thead>\n",
       "  <tbody>\n",
       "    <tr>\n",
       "      <th>0</th>\n",
       "      <td>Afghanistan</td>\n",
       "      <td>2021</td>\n",
       "      <td>1517.016266</td>\n",
       "      <td>Asia</td>\n",
       "      <td>61.982</td>\n",
       "    </tr>\n",
       "    <tr>\n",
       "      <th>1</th>\n",
       "      <td>Afghanistan</td>\n",
       "      <td>2020</td>\n",
       "      <td>1968.341002</td>\n",
       "      <td>Asia</td>\n",
       "      <td>62.575</td>\n",
       "    </tr>\n",
       "    <tr>\n",
       "      <th>2</th>\n",
       "      <td>Afghanistan</td>\n",
       "      <td>2019</td>\n",
       "      <td>2079.921861</td>\n",
       "      <td>Asia</td>\n",
       "      <td>63.565</td>\n",
       "    </tr>\n",
       "    <tr>\n",
       "      <th>3</th>\n",
       "      <td>Afghanistan</td>\n",
       "      <td>2018</td>\n",
       "      <td>2060.698973</td>\n",
       "      <td>Asia</td>\n",
       "      <td>63.081</td>\n",
       "    </tr>\n",
       "    <tr>\n",
       "      <th>4</th>\n",
       "      <td>Afghanistan</td>\n",
       "      <td>2017</td>\n",
       "      <td>2096.093111</td>\n",
       "      <td>Asia</td>\n",
       "      <td>63.016</td>\n",
       "    </tr>\n",
       "    <tr>\n",
       "      <th>...</th>\n",
       "      <td>...</td>\n",
       "      <td>...</td>\n",
       "      <td>...</td>\n",
       "      <td>...</td>\n",
       "      <td>...</td>\n",
       "    </tr>\n",
       "    <tr>\n",
       "      <th>5499</th>\n",
       "      <td>Zimbabwe</td>\n",
       "      <td>1994</td>\n",
       "      <td>2670.106615</td>\n",
       "      <td>Africa</td>\n",
       "      <td>52.588</td>\n",
       "    </tr>\n",
       "    <tr>\n",
       "      <th>5500</th>\n",
       "      <td>Zimbabwe</td>\n",
       "      <td>1993</td>\n",
       "      <td>2458.783255</td>\n",
       "      <td>Africa</td>\n",
       "      <td>54.426</td>\n",
       "    </tr>\n",
       "    <tr>\n",
       "      <th>5501</th>\n",
       "      <td>Zimbabwe</td>\n",
       "      <td>1992</td>\n",
       "      <td>2468.278257</td>\n",
       "      <td>Africa</td>\n",
       "      <td>56.435</td>\n",
       "    </tr>\n",
       "    <tr>\n",
       "      <th>5502</th>\n",
       "      <td>Zimbabwe</td>\n",
       "      <td>1991</td>\n",
       "      <td>2781.787843</td>\n",
       "      <td>Africa</td>\n",
       "      <td>58.091</td>\n",
       "    </tr>\n",
       "    <tr>\n",
       "      <th>5503</th>\n",
       "      <td>Zimbabwe</td>\n",
       "      <td>1990</td>\n",
       "      <td>2704.757299</td>\n",
       "      <td>Africa</td>\n",
       "      <td>59.426</td>\n",
       "    </tr>\n",
       "  </tbody>\n",
       "</table>\n",
       "<p>5504 rows × 5 columns</p>\n",
       "</div>"
      ],
      "text/plain": [
       "          Country  Year  GDP_Per_Capita Continent  Life_Expectancy\n",
       "0     Afghanistan  2021     1517.016266      Asia           61.982\n",
       "1     Afghanistan  2020     1968.341002      Asia           62.575\n",
       "2     Afghanistan  2019     2079.921861      Asia           63.565\n",
       "3     Afghanistan  2018     2060.698973      Asia           63.081\n",
       "4     Afghanistan  2017     2096.093111      Asia           63.016\n",
       "...           ...   ...             ...       ...              ...\n",
       "5499     Zimbabwe  1994     2670.106615    Africa           52.588\n",
       "5500     Zimbabwe  1993     2458.783255    Africa           54.426\n",
       "5501     Zimbabwe  1992     2468.278257    Africa           56.435\n",
       "5502     Zimbabwe  1991     2781.787843    Africa           58.091\n",
       "5503     Zimbabwe  1990     2704.757299    Africa           59.426\n",
       "\n",
       "[5504 rows x 5 columns]"
      ]
     },
     "execution_count": 6,
     "metadata": {},
     "output_type": "execute_result"
    }
   ],
   "source": [
    "gdp_le = pd.read_csv('../data/gdp_le.csv')\n",
    "gdp_le"
   ]
  },
  {
   "cell_type": "markdown",
   "id": "96b8b594-392a-4aa5-8392-e9af909ae661",
   "metadata": {},
   "source": [
    "#### Q1. Start by fitting a linear regression model with target being life expectancy and predictor variable year.\n",
    "##### a. What coefficients do you get? Interpret the meaning of these coefficents.  \n",
    "$\\beta_0$ = -468 and $\\beta_1$ = 0.26  \n",
    "At year 0, life expectancy was negative (which is obviously nonsensical); every passing year results in life expectancy growing by 0.27 years.  \n",
    "##### b. Using just the year makes the intercept term difficult to interpret. Create a new model, but this time use years since 1990 as your predictor variable. Hint: You can use the patsy identity function to modify your predictors in your model formula. Inspect the new coefficients and interpret the meaning of them. Are they statistically significant? \n",
    "$\\beta_0$ = 64.75 and $\\beta_1$ = 0.26  \n",
    "p-value = 1.342995239833837e-102\n",
    "##### c. Compare the actual mean life expectancy per year to the model's estimate. How well does it do?  \n",
    "##### d. Plot the actual values against your model's estimates for the mean life expectancy.  \n",
    "##### e. Inspect the R-squared value for the model. does it make sense, given the plot?  \n",
    "r-squared = 0.07154748843194658; model looked pretty close, so low r-squared seems weird"
   ]
  },
  {
   "cell_type": "code",
   "execution_count": 68,
   "id": "30b22d0d-86d9-42ff-a5d1-01b99bc1f3a0",
   "metadata": {},
   "outputs": [
    {
     "data": {
      "text/plain": [
       "Year\n",
       "1990    64.745253\n",
       "1991    65.021276\n",
       "1992    65.217845\n",
       "1993    65.218031\n",
       "1994    65.339539\n",
       "1995    65.956224\n",
       "1996    66.200189\n",
       "1997    66.437280\n",
       "1998    66.556082\n",
       "1999    66.916176\n",
       "2000    67.154618\n",
       "2001    67.445644\n",
       "2002    67.653800\n",
       "2003    67.907879\n",
       "2004    68.194988\n",
       "2005    68.511619\n",
       "2006    68.866658\n",
       "2007    69.199696\n",
       "2008    69.578075\n",
       "2009    69.990552\n",
       "2010    70.363572\n",
       "2011    70.756336\n",
       "2012    71.086031\n",
       "2013    71.221144\n",
       "2014    71.490074\n",
       "2015    71.725811\n",
       "2016    72.049365\n",
       "2017    72.280413\n",
       "2018    72.493003\n",
       "2019    72.726851\n",
       "2020    72.044532\n",
       "2021    71.520337\n",
       "2022    72.154386\n",
       "Name: Life_Expectancy, dtype: float64"
      ]
     },
     "execution_count": 68,
     "metadata": {},
     "output_type": "execute_result"
    }
   ],
   "source": [
    "gdp_le.groupby('Year')['Life_Expectancy'].mean()#.plot()"
   ]
  },
  {
   "cell_type": "code",
   "execution_count": 24,
   "id": "d3b980d5-f620-49db-a2a3-e164a64b9a64",
   "metadata": {},
   "outputs": [
    {
     "data": {
      "text/plain": [
       "Intercept   -468.138140\n",
       "Year           0.267722\n",
       "dtype: float64"
      ]
     },
     "execution_count": 24,
     "metadata": {},
     "output_type": "execute_result"
    }
   ],
   "source": [
    "lr_year = smf.ols(\"Life_Expectancy ~ Year\", data=gdp_le).fit()\n",
    "lr_year.params"
   ]
  },
  {
   "cell_type": "code",
   "execution_count": 118,
   "id": "bf24745d-388a-42cf-9c9b-90e777443c37",
   "metadata": {},
   "outputs": [
    {
     "data": {
      "text/html": [
       "<table class=\"simpletable\">\n",
       "<caption>OLS Regression Results</caption>\n",
       "<tr>\n",
       "  <th>Dep. Variable:</th>     <td>Life_Expectancy</td> <th>  R-squared:         </th> <td>   0.072</td> \n",
       "</tr>\n",
       "<tr>\n",
       "  <th>Model:</th>                   <td>OLS</td>       <th>  Adj. R-squared:    </th> <td>   0.071</td> \n",
       "</tr>\n",
       "<tr>\n",
       "  <th>Method:</th>             <td>Least Squares</td>  <th>  F-statistic:       </th> <td>   424.0</td> \n",
       "</tr>\n",
       "<tr>\n",
       "  <th>Date:</th>             <td>Mon, 21 Oct 2024</td> <th>  Prob (F-statistic):</th> <td>8.13e-91</td> \n",
       "</tr>\n",
       "<tr>\n",
       "  <th>Time:</th>                 <td>21:57:14</td>     <th>  Log-Likelihood:    </th> <td> -19950.</td> \n",
       "</tr>\n",
       "<tr>\n",
       "  <th>No. Observations:</th>      <td>  5504</td>      <th>  AIC:               </th> <td>3.990e+04</td>\n",
       "</tr>\n",
       "<tr>\n",
       "  <th>Df Residuals:</th>          <td>  5502</td>      <th>  BIC:               </th> <td>3.992e+04</td>\n",
       "</tr>\n",
       "<tr>\n",
       "  <th>Df Model:</th>              <td>     1</td>      <th>                     </th>     <td> </td>    \n",
       "</tr>\n",
       "<tr>\n",
       "  <th>Covariance Type:</th>      <td>nonrobust</td>    <th>                     </th>     <td> </td>    \n",
       "</tr>\n",
       "</table>\n",
       "<table class=\"simpletable\">\n",
       "<tr>\n",
       "         <td></td>           <th>coef</th>     <th>std err</th>      <th>t</th>      <th>P>|t|</th>  <th>[0.025</th>    <th>0.975]</th>  \n",
       "</tr>\n",
       "<tr>\n",
       "  <th>Intercept</th>      <td>   64.6289</td> <td>    0.245</td> <td>  263.308</td> <td> 0.000</td> <td>   64.148</td> <td>   65.110</td>\n",
       "</tr>\n",
       "<tr>\n",
       "  <th>I(Year - 1990)</th> <td>    0.2677</td> <td>    0.013</td> <td>   20.591</td> <td> 0.000</td> <td>    0.242</td> <td>    0.293</td>\n",
       "</tr>\n",
       "</table>\n",
       "<table class=\"simpletable\">\n",
       "<tr>\n",
       "  <th>Omnibus:</th>       <td>387.409</td> <th>  Durbin-Watson:     </th> <td>   0.058</td> \n",
       "</tr>\n",
       "<tr>\n",
       "  <th>Prob(Omnibus):</th> <td> 0.000</td>  <th>  Jarque-Bera (JB):  </th> <td> 469.138</td> \n",
       "</tr>\n",
       "<tr>\n",
       "  <th>Skew:</th>          <td>-0.709</td>  <th>  Prob(JB):          </th> <td>1.34e-102</td>\n",
       "</tr>\n",
       "<tr>\n",
       "  <th>Kurtosis:</th>      <td> 2.820</td>  <th>  Cond. No.          </th> <td>    37.9</td> \n",
       "</tr>\n",
       "</table><br/><br/>Notes:<br/>[1] Standard Errors assume that the covariance matrix of the errors is correctly specified."
      ],
      "text/latex": [
       "\\begin{center}\n",
       "\\begin{tabular}{lclc}\n",
       "\\toprule\n",
       "\\textbf{Dep. Variable:}    & Life\\_Expectancy & \\textbf{  R-squared:         } &     0.072   \\\\\n",
       "\\textbf{Model:}            &       OLS        & \\textbf{  Adj. R-squared:    } &     0.071   \\\\\n",
       "\\textbf{Method:}           &  Least Squares   & \\textbf{  F-statistic:       } &     424.0   \\\\\n",
       "\\textbf{Date:}             & Mon, 21 Oct 2024 & \\textbf{  Prob (F-statistic):} &  8.13e-91   \\\\\n",
       "\\textbf{Time:}             &     21:57:14     & \\textbf{  Log-Likelihood:    } &   -19950.   \\\\\n",
       "\\textbf{No. Observations:} &        5504      & \\textbf{  AIC:               } & 3.990e+04   \\\\\n",
       "\\textbf{Df Residuals:}     &        5502      & \\textbf{  BIC:               } & 3.992e+04   \\\\\n",
       "\\textbf{Df Model:}         &           1      & \\textbf{                     } &             \\\\\n",
       "\\textbf{Covariance Type:}  &    nonrobust     & \\textbf{                     } &             \\\\\n",
       "\\bottomrule\n",
       "\\end{tabular}\n",
       "\\begin{tabular}{lcccccc}\n",
       "                        & \\textbf{coef} & \\textbf{std err} & \\textbf{t} & \\textbf{P$> |$t$|$} & \\textbf{[0.025} & \\textbf{0.975]}  \\\\\n",
       "\\midrule\n",
       "\\textbf{Intercept}      &      64.6289  &        0.245     &   263.308  &         0.000        &       64.148    &       65.110     \\\\\n",
       "\\textbf{I(Year - 1990)} &       0.2677  &        0.013     &    20.591  &         0.000        &        0.242    &        0.293     \\\\\n",
       "\\bottomrule\n",
       "\\end{tabular}\n",
       "\\begin{tabular}{lclc}\n",
       "\\textbf{Omnibus:}       & 387.409 & \\textbf{  Durbin-Watson:     } &     0.058  \\\\\n",
       "\\textbf{Prob(Omnibus):} &   0.000 & \\textbf{  Jarque-Bera (JB):  } &   469.138  \\\\\n",
       "\\textbf{Skew:}          &  -0.709 & \\textbf{  Prob(JB):          } & 1.34e-102  \\\\\n",
       "\\textbf{Kurtosis:}      &   2.820 & \\textbf{  Cond. No.          } &      37.9  \\\\\n",
       "\\bottomrule\n",
       "\\end{tabular}\n",
       "%\\caption{OLS Regression Results}\n",
       "\\end{center}\n",
       "\n",
       "Notes: \\newline\n",
       " [1] Standard Errors assume that the covariance matrix of the errors is correctly specified."
      ],
      "text/plain": [
       "<class 'statsmodels.iolib.summary.Summary'>\n",
       "\"\"\"\n",
       "                            OLS Regression Results                            \n",
       "==============================================================================\n",
       "Dep. Variable:        Life_Expectancy   R-squared:                       0.072\n",
       "Model:                            OLS   Adj. R-squared:                  0.071\n",
       "Method:                 Least Squares   F-statistic:                     424.0\n",
       "Date:                Mon, 21 Oct 2024   Prob (F-statistic):           8.13e-91\n",
       "Time:                        21:57:14   Log-Likelihood:                -19950.\n",
       "No. Observations:                5504   AIC:                         3.990e+04\n",
       "Df Residuals:                    5502   BIC:                         3.992e+04\n",
       "Df Model:                           1                                         \n",
       "Covariance Type:            nonrobust                                         \n",
       "==================================================================================\n",
       "                     coef    std err          t      P>|t|      [0.025      0.975]\n",
       "----------------------------------------------------------------------------------\n",
       "Intercept         64.6289      0.245    263.308      0.000      64.148      65.110\n",
       "I(Year - 1990)     0.2677      0.013     20.591      0.000       0.242       0.293\n",
       "==============================================================================\n",
       "Omnibus:                      387.409   Durbin-Watson:                   0.058\n",
       "Prob(Omnibus):                  0.000   Jarque-Bera (JB):              469.138\n",
       "Skew:                          -0.709   Prob(JB):                    1.34e-102\n",
       "Kurtosis:                       2.820   Cond. No.                         37.9\n",
       "==============================================================================\n",
       "\n",
       "Notes:\n",
       "[1] Standard Errors assume that the covariance matrix of the errors is correctly specified.\n",
       "\"\"\""
      ]
     },
     "execution_count": 118,
     "metadata": {},
     "output_type": "execute_result"
    }
   ],
   "source": [
    "lr_year_adjusted = smf.ols(\"Life_Expectancy ~ I(Year-1990)\", data=gdp_le).fit()\n",
    "lr_year_adjusted.summary()"
   ]
  },
  {
   "cell_type": "code",
   "execution_count": 108,
   "id": "662ba185-ff04-4f7b-b465-4b74fd91871b",
   "metadata": {},
   "outputs": [
    {
     "data": {
      "text/html": [
       "<div>\n",
       "<style scoped>\n",
       "    .dataframe tbody tr th:only-of-type {\n",
       "        vertical-align: middle;\n",
       "    }\n",
       "\n",
       "    .dataframe tbody tr th {\n",
       "        vertical-align: top;\n",
       "    }\n",
       "\n",
       "    .dataframe thead th {\n",
       "        text-align: right;\n",
       "    }\n",
       "</style>\n",
       "<table border=\"1\" class=\"dataframe\">\n",
       "  <thead>\n",
       "    <tr style=\"text-align: right;\">\n",
       "      <th></th>\n",
       "      <th>Year</th>\n",
       "      <th>mean_estimate</th>\n",
       "    </tr>\n",
       "  </thead>\n",
       "  <tbody>\n",
       "    <tr>\n",
       "      <th>0</th>\n",
       "      <td>1990.000000</td>\n",
       "      <td>64.628889</td>\n",
       "    </tr>\n",
       "    <tr>\n",
       "      <th>1</th>\n",
       "      <td>1990.653061</td>\n",
       "      <td>64.803728</td>\n",
       "    </tr>\n",
       "    <tr>\n",
       "      <th>2</th>\n",
       "      <td>1991.306122</td>\n",
       "      <td>64.978567</td>\n",
       "    </tr>\n",
       "    <tr>\n",
       "      <th>3</th>\n",
       "      <td>1991.959184</td>\n",
       "      <td>65.153406</td>\n",
       "    </tr>\n",
       "    <tr>\n",
       "      <th>4</th>\n",
       "      <td>1992.612245</td>\n",
       "      <td>65.328245</td>\n",
       "    </tr>\n",
       "  </tbody>\n",
       "</table>\n",
       "</div>"
      ],
      "text/plain": [
       "          Year  mean_estimate\n",
       "0  1990.000000      64.628889\n",
       "1  1990.653061      64.803728\n",
       "2  1991.306122      64.978567\n",
       "3  1991.959184      65.153406\n",
       "4  1992.612245      65.328245"
      ]
     },
     "execution_count": 108,
     "metadata": {},
     "output_type": "execute_result"
    }
   ],
   "source": [
    "pred_df = pd.DataFrame(\n",
    "    {\n",
    "        'Year': np.linspace(start=gdp_le['Year'].min(), stop=gdp_le['Year'].max())\n",
    "    }\n",
    ")\n",
    "\n",
    "pred_df['mean_estimate'] = lr_year_adjusted.predict(pred_df)\n",
    "\n",
    "pred_df.head(5)"
   ]
  },
  {
   "cell_type": "code",
   "execution_count": 212,
   "id": "8c556283-06dd-49bf-bb3c-767fbea0591e",
   "metadata": {},
   "outputs": [
    {
     "data": {
      "image/png": "[encoded data removed]",
      "text/plain": [
       "<Figure size 640x480 with 1 Axes>"
      ]
     },
     "metadata": {},
     "output_type": "display_data"
    }
   ],
   "source": [
    "fig, ax = plt.subplots()\n",
    "gdp_le.groupby('Year')['Life_Expectancy'].mean().plot()\n",
    "pred_df.plot(kind=\"line\", x=\"Year\", y=\"mean_estimate\", color=\"black\", ax=ax);"
   ]
  },
  {
   "cell_type": "code",
   "execution_count": 120,
   "id": "6bca82b5-65ad-4da2-bc22-e9a88930d920",
   "metadata": {},
   "outputs": [
    {
     "data": {
      "text/plain": [
       "(469.13755422457075,\n",
       " 1.342995239833837e-102,\n",
       " -0.7094491570127851,\n",
       " 2.8200402423092434)"
      ]
     },
     "execution_count": 120,
     "metadata": {},
     "output_type": "execute_result"
    }
   ],
   "source": [
    "sms.jarque_bera(lr_year_adjusted.resid)"
   ]
  },
  {
   "cell_type": "code",
   "execution_count": 122,
   "id": "3aec4afb-1ebb-47c0-a17b-9e489b9cbd5a",
   "metadata": {},
   "outputs": [
    {
     "data": {
      "text/plain": [
       "0.07154748843194658"
      ]
     },
     "execution_count": 122,
     "metadata": {},
     "output_type": "execute_result"
    }
   ],
   "source": [
    "lr_year_adjusted.rsquared"
   ]
  },
  {
   "cell_type": "markdown",
   "id": "35860369-dbe8-4d4f-9951-8753c5254538",
   "metadata": {},
   "source": [
    "#### Q2. Filter the full dataset down to just the year 2021. Fit a linear regression model with target being life expectancy and predictor variable gdp per capita.  \r",
    "##### \n",
    "a. What coefficients do you get? Interpret the meaning of those coefficients  \n",
    "$\\beta_0$ = 65.949870 and $\\beta_1$ = 0.000257  \n",
    "At GDP per capita of 0, life expectancy was 66 years; every dollar increase results in a life expectancy increase of 0.000257.  .##### \r\n",
    "b. Refit your model, but this time use thousands of dollars of gdp per capita as your predictor. How does this change your coefficient  \n",
    "$\\beta_0$ = 65.949870 and $\\beta_1$ = 0.257s##### ?\r\n",
    "c. Are the coefficients statistically significa \n",
    "p-value = 0.0017251845192994594n##### t?\r\n",
    "d. What does your model estimate for the mean life expectancy for a country whose gdp per capita is $50,000? What about one whose gdp per capita is $100,  \n",
    "50K = 78.79487  \n",
    "100K = 91.63987  \n",
    "##### 00? e. Plot the actual values compared to your model's estimates for mean life expectancy. How would you assess the model's fit?"
   ]
  },
  {
   "cell_type": "code",
   "execution_count": 136,
   "id": "3f1cbf97-8ce1-49d4-b0a3-705c90a10a82",
   "metadata": {},
   "outputs": [
    {
     "data": {
      "text/html": [
       "<div>\n",
       "<style scoped>\n",
       "    .dataframe tbody tr th:only-of-type {\n",
       "        vertical-align: middle;\n",
       "    }\n",
       "\n",
       "    .dataframe tbody tr th {\n",
       "        vertical-align: top;\n",
       "    }\n",
       "\n",
       "    .dataframe thead th {\n",
       "        text-align: right;\n",
       "    }\n",
       "</style>\n",
       "<table border=\"1\" class=\"dataframe\">\n",
       "  <thead>\n",
       "    <tr style=\"text-align: right;\">\n",
       "      <th></th>\n",
       "      <th>Country</th>\n",
       "      <th>Year</th>\n",
       "      <th>GDP_Per_Capita</th>\n",
       "      <th>Continent</th>\n",
       "      <th>Life_Expectancy</th>\n",
       "    </tr>\n",
       "  </thead>\n",
       "  <tbody>\n",
       "    <tr>\n",
       "      <th>0</th>\n",
       "      <td>Afghanistan</td>\n",
       "      <td>2021</td>\n",
       "      <td>1517.016266</td>\n",
       "      <td>Asia</td>\n",
       "      <td>61.982</td>\n",
       "    </tr>\n",
       "    <tr>\n",
       "      <th>21</th>\n",
       "      <td>Albania</td>\n",
       "      <td>2021</td>\n",
       "      <td>14595.944386</td>\n",
       "      <td>Europe</td>\n",
       "      <td>76.463</td>\n",
       "    </tr>\n",
       "    <tr>\n",
       "      <th>54</th>\n",
       "      <td>Algeria</td>\n",
       "      <td>2021</td>\n",
       "      <td>11029.138782</td>\n",
       "      <td>Africa</td>\n",
       "      <td>76.377</td>\n",
       "    </tr>\n",
       "    <tr>\n",
       "      <th>87</th>\n",
       "      <td>Angola</td>\n",
       "      <td>2021</td>\n",
       "      <td>5911.835657</td>\n",
       "      <td>Africa</td>\n",
       "      <td>61.643</td>\n",
       "    </tr>\n",
       "    <tr>\n",
       "      <th>120</th>\n",
       "      <td>Antigua and Barbuda</td>\n",
       "      <td>2021</td>\n",
       "      <td>19899.882425</td>\n",
       "      <td>North America</td>\n",
       "      <td>78.497</td>\n",
       "    </tr>\n",
       "    <tr>\n",
       "      <th>...</th>\n",
       "      <td>...</td>\n",
       "      <td>...</td>\n",
       "      <td>...</td>\n",
       "      <td>...</td>\n",
       "      <td>...</td>\n",
       "    </tr>\n",
       "    <tr>\n",
       "      <th>5344</th>\n",
       "      <td>Uzbekistan</td>\n",
       "      <td>2021</td>\n",
       "      <td>7800.501501</td>\n",
       "      <td>Asia</td>\n",
       "      <td>70.862</td>\n",
       "    </tr>\n",
       "    <tr>\n",
       "      <th>5377</th>\n",
       "      <td>Vanuatu</td>\n",
       "      <td>2021</td>\n",
       "      <td>2800.493866</td>\n",
       "      <td>Oceania</td>\n",
       "      <td>70.449</td>\n",
       "    </tr>\n",
       "    <tr>\n",
       "      <th>5410</th>\n",
       "      <td>West Bank and Gaza</td>\n",
       "      <td>2021</td>\n",
       "      <td>5641.044400</td>\n",
       "      <td>Asia</td>\n",
       "      <td>73.473</td>\n",
       "    </tr>\n",
       "    <tr>\n",
       "      <th>5439</th>\n",
       "      <td>Zambia</td>\n",
       "      <td>2021</td>\n",
       "      <td>3236.788981</td>\n",
       "      <td>Africa</td>\n",
       "      <td>61.223</td>\n",
       "    </tr>\n",
       "    <tr>\n",
       "      <th>5472</th>\n",
       "      <td>Zimbabwe</td>\n",
       "      <td>2021</td>\n",
       "      <td>2115.144555</td>\n",
       "      <td>Africa</td>\n",
       "      <td>59.253</td>\n",
       "    </tr>\n",
       "  </tbody>\n",
       "</table>\n",
       "<p>173 rows × 5 columns</p>\n",
       "</div>"
      ],
      "text/plain": [
       "                  Country  Year  GDP_Per_Capita      Continent  \\\n",
       "0             Afghanistan  2021     1517.016266           Asia   \n",
       "21                Albania  2021    14595.944386         Europe   \n",
       "54                Algeria  2021    11029.138782         Africa   \n",
       "87                 Angola  2021     5911.835657         Africa   \n",
       "120   Antigua and Barbuda  2021    19899.882425  North America   \n",
       "...                   ...   ...             ...            ...   \n",
       "5344           Uzbekistan  2021     7800.501501           Asia   \n",
       "5377              Vanuatu  2021     2800.493866        Oceania   \n",
       "5410   West Bank and Gaza  2021     5641.044400           Asia   \n",
       "5439               Zambia  2021     3236.788981         Africa   \n",
       "5472             Zimbabwe  2021     2115.144555         Africa   \n",
       "\n",
       "      Life_Expectancy  \n",
       "0              61.982  \n",
       "21             76.463  \n",
       "54             76.377  \n",
       "87             61.643  \n",
       "120            78.497  \n",
       "...               ...  \n",
       "5344           70.862  \n",
       "5377           70.449  \n",
       "5410           73.473  \n",
       "5439           61.223  \n",
       "5472           59.253  \n",
       "\n",
       "[173 rows x 5 columns]"
      ]
     },
     "execution_count": 136,
     "metadata": {},
     "output_type": "execute_result"
    }
   ],
   "source": [
    "gdp_le_2021 = gdp_le[gdp_le['Year'] == 2021]\n",
    "gdp_le_2021"
   ]
  },
  {
   "cell_type": "code",
   "execution_count": 162,
   "id": "20db160e-16b0-417b-a2d7-eead3aaf44da",
   "metadata": {},
   "outputs": [
    {
     "data": {
      "text/plain": [
       "Intercept         65.949870\n",
       "GDP_Per_Capita     0.000257\n",
       "dtype: float64"
      ]
     },
     "execution_count": 162,
     "metadata": {},
     "output_type": "execute_result"
    }
   ],
   "source": [
    "lr_gdp = smf.ols(\"Life_Expectancy ~ GDP_Per_Capita\", data=gdp_le_2021).fit()\n",
    "lr_gdp.params"
   ]
  },
  {
   "cell_type": "code",
   "execution_count": 164,
   "id": "f0fc3199-3500-445e-8d96-1b04669555b6",
   "metadata": {},
   "outputs": [
    {
     "data": {
      "text/html": [
       "<table class=\"simpletable\">\n",
       "<caption>OLS Regression Results</caption>\n",
       "<tr>\n",
       "  <th>Dep. Variable:</th>     <td>Life_Expectancy</td> <th>  R-squared:         </th> <td>   0.555</td>\n",
       "</tr>\n",
       "<tr>\n",
       "  <th>Model:</th>                   <td>OLS</td>       <th>  Adj. R-squared:    </th> <td>   0.553</td>\n",
       "</tr>\n",
       "<tr>\n",
       "  <th>Method:</th>             <td>Least Squares</td>  <th>  F-statistic:       </th> <td>   213.4</td>\n",
       "</tr>\n",
       "<tr>\n",
       "  <th>Date:</th>             <td>Mon, 21 Oct 2024</td> <th>  Prob (F-statistic):</th> <td>6.81e-32</td>\n",
       "</tr>\n",
       "<tr>\n",
       "  <th>Time:</th>                 <td>23:21:06</td>     <th>  Log-Likelihood:    </th> <td> -529.25</td>\n",
       "</tr>\n",
       "<tr>\n",
       "  <th>No. Observations:</th>      <td>   173</td>      <th>  AIC:               </th> <td>   1062.</td>\n",
       "</tr>\n",
       "<tr>\n",
       "  <th>Df Residuals:</th>          <td>   171</td>      <th>  BIC:               </th> <td>   1069.</td>\n",
       "</tr>\n",
       "<tr>\n",
       "  <th>Df Model:</th>              <td>     1</td>      <th>                     </th>     <td> </td>   \n",
       "</tr>\n",
       "<tr>\n",
       "  <th>Covariance Type:</th>      <td>nonrobust</td>    <th>                     </th>     <td> </td>   \n",
       "</tr>\n",
       "</table>\n",
       "<table class=\"simpletable\">\n",
       "<tr>\n",
       "              <td></td>                <th>coef</th>     <th>std err</th>      <th>t</th>      <th>P>|t|</th>  <th>[0.025</th>    <th>0.975]</th>  \n",
       "</tr>\n",
       "<tr>\n",
       "  <th>Intercept</th>                <td>   65.9499</td> <td>    0.549</td> <td>  120.225</td> <td> 0.000</td> <td>   64.867</td> <td>   67.033</td>\n",
       "</tr>\n",
       "<tr>\n",
       "  <th>I(GDP_Per_Capita / 1000)</th> <td>    0.2569</td> <td>    0.018</td> <td>   14.608</td> <td> 0.000</td> <td>    0.222</td> <td>    0.292</td>\n",
       "</tr>\n",
       "</table>\n",
       "<table class=\"simpletable\">\n",
       "<tr>\n",
       "  <th>Omnibus:</th>       <td>11.676</td> <th>  Durbin-Watson:     </th> <td>   1.887</td>\n",
       "</tr>\n",
       "<tr>\n",
       "  <th>Prob(Omnibus):</th> <td> 0.003</td> <th>  Jarque-Bera (JB):  </th> <td>  12.725</td>\n",
       "</tr>\n",
       "<tr>\n",
       "  <th>Skew:</th>          <td>-0.664</td> <th>  Prob(JB):          </th> <td> 0.00173</td>\n",
       "</tr>\n",
       "<tr>\n",
       "  <th>Kurtosis:</th>      <td> 2.946</td> <th>  Cond. No.          </th> <td>    43.4</td>\n",
       "</tr>\n",
       "</table><br/><br/>Notes:<br/>[1] Standard Errors assume that the covariance matrix of the errors is correctly specified."
      ],
      "text/latex": [
       "\\begin{center}\n",
       "\\begin{tabular}{lclc}\n",
       "\\toprule\n",
       "\\textbf{Dep. Variable:}             & Life\\_Expectancy & \\textbf{  R-squared:         } &     0.555   \\\\\n",
       "\\textbf{Model:}                     &       OLS        & \\textbf{  Adj. R-squared:    } &     0.553   \\\\\n",
       "\\textbf{Method:}                    &  Least Squares   & \\textbf{  F-statistic:       } &     213.4   \\\\\n",
       "\\textbf{Date:}                      & Mon, 21 Oct 2024 & \\textbf{  Prob (F-statistic):} &  6.81e-32   \\\\\n",
       "\\textbf{Time:}                      &     23:21:06     & \\textbf{  Log-Likelihood:    } &   -529.25   \\\\\n",
       "\\textbf{No. Observations:}          &         173      & \\textbf{  AIC:               } &     1062.   \\\\\n",
       "\\textbf{Df Residuals:}              &         171      & \\textbf{  BIC:               } &     1069.   \\\\\n",
       "\\textbf{Df Model:}                  &           1      & \\textbf{                     } &             \\\\\n",
       "\\textbf{Covariance Type:}           &    nonrobust     & \\textbf{                     } &             \\\\\n",
       "\\bottomrule\n",
       "\\end{tabular}\n",
       "\\begin{tabular}{lcccccc}\n",
       "                                    & \\textbf{coef} & \\textbf{std err} & \\textbf{t} & \\textbf{P$> |$t$|$} & \\textbf{[0.025} & \\textbf{0.975]}  \\\\\n",
       "\\midrule\n",
       "\\textbf{Intercept}                  &      65.9499  &        0.549     &   120.225  &         0.000        &       64.867    &       67.033     \\\\\n",
       "\\textbf{I(GDP\\_Per\\_Capita / 1000)} &       0.2569  &        0.018     &    14.608  &         0.000        &        0.222    &        0.292     \\\\\n",
       "\\bottomrule\n",
       "\\end{tabular}\n",
       "\\begin{tabular}{lclc}\n",
       "\\textbf{Omnibus:}       & 11.676 & \\textbf{  Durbin-Watson:     } &    1.887  \\\\\n",
       "\\textbf{Prob(Omnibus):} &  0.003 & \\textbf{  Jarque-Bera (JB):  } &   12.725  \\\\\n",
       "\\textbf{Skew:}          & -0.664 & \\textbf{  Prob(JB):          } &  0.00173  \\\\\n",
       "\\textbf{Kurtosis:}      &  2.946 & \\textbf{  Cond. No.          } &     43.4  \\\\\n",
       "\\bottomrule\n",
       "\\end{tabular}\n",
       "%\\caption{OLS Regression Results}\n",
       "\\end{center}\n",
       "\n",
       "Notes: \\newline\n",
       " [1] Standard Errors assume that the covariance matrix of the errors is correctly specified."
      ],
      "text/plain": [
       "<class 'statsmodels.iolib.summary.Summary'>\n",
       "\"\"\"\n",
       "                            OLS Regression Results                            \n",
       "==============================================================================\n",
       "Dep. Variable:        Life_Expectancy   R-squared:                       0.555\n",
       "Model:                            OLS   Adj. R-squared:                  0.553\n",
       "Method:                 Least Squares   F-statistic:                     213.4\n",
       "Date:                Mon, 21 Oct 2024   Prob (F-statistic):           6.81e-32\n",
       "Time:                        23:21:06   Log-Likelihood:                -529.25\n",
       "No. Observations:                 173   AIC:                             1062.\n",
       "Df Residuals:                     171   BIC:                             1069.\n",
       "Df Model:                           1                                         \n",
       "Covariance Type:            nonrobust                                         \n",
       "============================================================================================\n",
       "                               coef    std err          t      P>|t|      [0.025      0.975]\n",
       "--------------------------------------------------------------------------------------------\n",
       "Intercept                   65.9499      0.549    120.225      0.000      64.867      67.033\n",
       "I(GDP_Per_Capita / 1000)     0.2569      0.018     14.608      0.000       0.222       0.292\n",
       "==============================================================================\n",
       "Omnibus:                       11.676   Durbin-Watson:                   1.887\n",
       "Prob(Omnibus):                  0.003   Jarque-Bera (JB):               12.725\n",
       "Skew:                          -0.664   Prob(JB):                      0.00173\n",
       "Kurtosis:                       2.946   Cond. No.                         43.4\n",
       "==============================================================================\n",
       "\n",
       "Notes:\n",
       "[1] Standard Errors assume that the covariance matrix of the errors is correctly specified.\n",
       "\"\"\""
      ]
     },
     "execution_count": 164,
     "metadata": {},
     "output_type": "execute_result"
    }
   ],
   "source": [
    "lr_gdp = smf.ols(\"Life_Expectancy ~ I(GDP_Per_Capita/1000)\", data=gdp_le_2021).fit()\n",
    "lr_gdp.summary()"
   ]
  },
  {
   "cell_type": "code",
   "execution_count": 148,
   "id": "7e4b7ab5-d567-4ae0-99a0-a8fb3617b755",
   "metadata": {},
   "outputs": [
    {
     "data": {
      "text/plain": [
       "(12.72484253301924,\n",
       " 0.0017251845192994594,\n",
       " -0.6637725985434978,\n",
       " 2.9459646075602675)"
      ]
     },
     "execution_count": 148,
     "metadata": {},
     "output_type": "execute_result"
    }
   ],
   "source": [
    "sms.jarque_bera(lr_gdp.resid)"
   ]
  },
  {
   "cell_type": "code",
   "execution_count": 150,
   "id": "dceb1935-b3b3-4b91-9d38-10c3da64b017",
   "metadata": {},
   "outputs": [
    {
     "data": {
      "text/plain": [
       "78.79487"
      ]
     },
     "execution_count": 150,
     "metadata": {},
     "output_type": "execute_result"
    }
   ],
   "source": [
    "65.949870 + 0.2569*50"
   ]
  },
  {
   "cell_type": "code",
   "execution_count": 152,
   "id": "a5c2bc42-0219-4fc4-b4ec-f0381c8a8724",
   "metadata": {},
   "outputs": [
    {
     "data": {
      "text/plain": [
       "91.63987"
      ]
     },
     "execution_count": 152,
     "metadata": {},
     "output_type": "execute_result"
    }
   ],
   "source": [
    "65.949870 + 0.2569*100"
   ]
  },
  {
   "cell_type": "code",
   "execution_count": 210,
   "id": "fc6cfcc2-23e2-4fff-b0b3-8a9dc368d002",
   "metadata": {},
   "outputs": [
    {
     "data": {
      "image/png": "[encoded data removed]",
      "text/plain": [
       "<Figure size 640x480 with 1 Axes>"
      ]
     },
     "metadata": {},
     "output_type": "display_data"
    }
   ],
   "source": [
    "gdp_le_2021.plot(kind=\"scatter\", x=\"GDP_Per_Capita\", y=\"Life_Expectancy\")\n",
    "plt.plot(gdp_le_2021['GDP_Per_Capita'], lr_gdp.fittedvalues, color = 'black');"
   ]
  },
  {
   "cell_type": "code",
   "execution_count": 180,
   "id": "993ece52-4d61-4e9e-aaa2-15efc07d3183",
   "metadata": {},
   "outputs": [
    {
     "data": {
      "image/png": "[encoded data removed]",
      "text/plain": [
       "<Figure size 640x480 with 1 Axes>"
      ]
     },
     "metadata": {},
     "output_type": "display_data"
    }
   ],
   "source": [
    "plt.scatter(lr_gdp.fittedvalues, lr_gdp.resid);"
   ]
  },
  {
   "cell_type": "markdown",
   "id": "bf1fbf4a-0282-4bc1-af1c-16083e56db4d",
   "metadata": {},
   "source": [
    "#### Q3. Now, fit a model for life expectancy based on the log of gdp per capita.  \r",
    "##### \n",
    "a. Inspect the coefficients for this model. Are they statistically significant  \n",
    "p-value = 7.78357766276912e-05\n",
    "#####  b. Interpret these coefficients. What does the model estimate for the average life expectancy for countries with a gdp per capita of $50,000  What about for those with a gdp per capita of $100,000? \n",
    "50K = 79.4  \n",
    "100K = 83.3  \n",
    "#####  c. Plot the actual values compared to your models' estimates for the mean life expectancy. How does this compare to the non-logged model  \n",
    "much better fit and residuals?"
   ]
  },
  {
   "cell_type": "code",
   "execution_count": 220,
   "id": "b8d74932-00ab-4721-bb82-5cc4041e1134",
   "metadata": {},
   "outputs": [
    {
     "data": {
      "text/plain": [
       "Intercept                    18.946970\n",
       "I(np.log(GDP_Per_Capita))     5.589014\n",
       "dtype: float64"
      ]
     },
     "execution_count": 220,
     "metadata": {},
     "output_type": "execute_result"
    }
   ],
   "source": [
    "lr_log_gdp = smf.ols(\"Life_Expectancy ~ I(np.log(GDP_Per_Capita))\", data=gdp_le_2021).fit()\n",
    "lr_log_gdp.params"
   ]
  },
  {
   "cell_type": "code",
   "execution_count": 226,
   "id": "a336fe38-8851-493d-897a-10a92ffee546",
   "metadata": {},
   "outputs": [
    {
     "data": {
      "text/plain": [
       "79.41886230846505"
      ]
     },
     "execution_count": 226,
     "metadata": {},
     "output_type": "execute_result"
    }
   ],
   "source": [
    "18.946970 + np.log(50000)*5.589014"
   ]
  },
  {
   "cell_type": "code",
   "execution_count": 228,
   "id": "90581408-a7cc-4537-bea6-9e352ded77de",
   "metadata": {},
   "outputs": [
    {
     "data": {
      "text/plain": [
       "83.29287160467513"
      ]
     },
     "execution_count": 228,
     "metadata": {},
     "output_type": "execute_result"
    }
   ],
   "source": [
    "18.946970 + np.log(100000)*5.589014"
   ]
  },
  {
   "cell_type": "code",
   "execution_count": 222,
   "id": "f91722c2-9120-4b4f-90e2-c99c899cd279",
   "metadata": {},
   "outputs": [
    {
     "data": {
      "text/plain": [
       "(18.92181875730786,\n",
       " 7.78357766276912e-05,\n",
       " -0.7245333956594466,\n",
       " 3.724705203405058)"
      ]
     },
     "execution_count": 222,
     "metadata": {},
     "output_type": "execute_result"
    }
   ],
   "source": [
    "sms.jarque_bera(lr_log_gdp.resid)"
   ]
  },
  {
   "cell_type": "code",
   "execution_count": 200,
   "id": "4c3fe55b-c2ef-409c-8d4b-5831d5bf6e58",
   "metadata": {},
   "outputs": [
    {
     "data": {
      "image/png": "[encoded data removed]",
      "text/plain": [
       "<Figure size 640x480 with 1 Axes>"
      ]
     },
     "metadata": {},
     "output_type": "display_data"
    }
   ],
   "source": [
    "#wtf?\n",
    "gdp_le_2021.plot(kind=\"scatter\", x=\"GDP_Per_Capita\", y=\"Life_Expectancy\")\n",
    "plt.plot(gdp_le_2021['GDP_Per_Capita'], lr_log_gdp.fittedvalues, color = 'black');"
   ]
  },
  {
   "cell_type": "code",
   "execution_count": 206,
   "id": "8d785792-be99-4c5f-aac8-6f6f1d169697",
   "metadata": {},
   "outputs": [
    {
     "data": {
      "text/html": [
       "<div>\n",
       "<style scoped>\n",
       "    .dataframe tbody tr th:only-of-type {\n",
       "        vertical-align: middle;\n",
       "    }\n",
       "\n",
       "    .dataframe tbody tr th {\n",
       "        vertical-align: top;\n",
       "    }\n",
       "\n",
       "    .dataframe thead th {\n",
       "        text-align: right;\n",
       "    }\n",
       "</style>\n",
       "<table border=\"1\" class=\"dataframe\">\n",
       "  <thead>\n",
       "    <tr style=\"text-align: right;\">\n",
       "      <th></th>\n",
       "      <th>GDP_Per_Capita</th>\n",
       "      <th>mean_estimate</th>\n",
       "    </tr>\n",
       "  </thead>\n",
       "  <tbody>\n",
       "    <tr>\n",
       "      <th>0</th>\n",
       "      <td>714.066712</td>\n",
       "      <td>55.672248</td>\n",
       "    </tr>\n",
       "    <tr>\n",
       "      <th>1</th>\n",
       "      <td>3060.381549</td>\n",
       "      <td>63.806043</td>\n",
       "    </tr>\n",
       "    <tr>\n",
       "      <th>2</th>\n",
       "      <td>5406.696386</td>\n",
       "      <td>66.986744</td>\n",
       "    </tr>\n",
       "    <tr>\n",
       "      <th>3</th>\n",
       "      <td>7753.011222</td>\n",
       "      <td>69.001265</td>\n",
       "    </tr>\n",
       "    <tr>\n",
       "      <th>4</th>\n",
       "      <td>10099.326059</td>\n",
       "      <td>70.478930</td>\n",
       "    </tr>\n",
       "  </tbody>\n",
       "</table>\n",
       "</div>"
      ],
      "text/plain": [
       "   GDP_Per_Capita  mean_estimate\n",
       "0      714.066712      55.672248\n",
       "1     3060.381549      63.806043\n",
       "2     5406.696386      66.986744\n",
       "3     7753.011222      69.001265\n",
       "4    10099.326059      70.478930"
      ]
     },
     "execution_count": 206,
     "metadata": {},
     "output_type": "execute_result"
    }
   ],
   "source": [
    "le_pred_df = pd.DataFrame(\n",
    "    {\n",
    "        'GDP_Per_Capita': np.linspace(start=gdp_le_2021['GDP_Per_Capita'].min(), stop=gdp_le_2021['GDP_Per_Capita'].max())\n",
    "    }\n",
    ")\n",
    "\n",
    "le_pred_df['mean_estimate'] = lr_log_gdp.predict(le_pred_df)\n",
    "\n",
    "le_pred_df.head(5)"
   ]
  },
  {
   "cell_type": "code",
   "execution_count": 214,
   "id": "bb44d37f-1e53-432c-b8bb-4ce906b11b04",
   "metadata": {},
   "outputs": [
    {
     "data": {
      "image/png": "[encoded data removed]",
      "text/plain": [
       "<Figure size 640x480 with 1 Axes>"
      ]
     },
     "metadata": {},
     "output_type": "display_data"
    }
   ],
   "source": [
    "fig, ax = plt.subplots()\n",
    "gdp_le_2021.plot(kind=\"scatter\", x=\"GDP_Per_Capita\", y=\"Life_Expectancy\", ax=ax)\n",
    "le_pred_df.plot(kind=\"line\", x=\"GDP_Per_Capita\", y=\"mean_estimate\", color=\"black\", ax=ax);"
   ]
  },
  {
   "cell_type": "code",
   "execution_count": 216,
   "id": "d5fd900c-1ae2-4f60-b0c4-e62070d51fd2",
   "metadata": {},
   "outputs": [
    {
     "data": {
      "image/png": "[encoded data removed]",
      "text/plain": [
       "<Figure size 640x480 with 1 Axes>"
      ]
     },
     "metadata": {},
     "output_type": "display_data"
    }
   ],
   "source": [
    "plt.scatter(lr_log_gdp.fittedvalues, lr_log_gdp.resid);"
   ]
  },
  {
   "cell_type": "code",
   "execution_count": 230,
   "id": "f050a866-18f4-4ee0-a46f-4b21872d9449",
   "metadata": {},
   "outputs": [
    {
     "data": {
      "text/plain": [
       "0.7166891962983926"
      ]
     },
     "execution_count": 230,
     "metadata": {},
     "output_type": "execute_result"
    }
   ],
   "source": [
    "lr_log_gdp.rsquared"
   ]
  },
  {
   "cell_type": "markdown",
   "id": "b9d45060-ab8e-4bed-acf7-fef23e08fb74",
   "metadata": {},
   "source": [
    "#### Q4. Finally, return to the full dataset.  \n",
    "##### a. First, fit a linear regression model for life expectancy based on the log of gdp per capita.  \n",
    "##### b. Then, add the year variable to your model. How can you interpret the coefficient associated with year? What limitations or weaknesses might this model have?"
   ]
  },
  {
   "cell_type": "code",
   "execution_count": 236,
   "id": "8c4199bd-82f4-4d0b-81b2-d0044f06a7f8",
   "metadata": {},
   "outputs": [
    {
     "data": {
      "text/plain": [
       "Intercept                    9.194102\n",
       "I(np.log(GDP_Per_Capita))    6.531130\n",
       "dtype: float64"
      ]
     },
     "execution_count": 236,
     "metadata": {},
     "output_type": "execute_result"
    }
   ],
   "source": [
    "lr_log_total_gdp = smf.ols(\"Life_Expectancy ~ I(np.log(GDP_Per_Capita))\", data=gdp_le).fit()\n",
    "lr_log_total_gdp.params"
   ]
  },
  {
   "cell_type": "code",
   "execution_count": 244,
   "id": "614e6fb9-2da4-45e2-aa8e-1c294e2186b0",
   "metadata": {},
   "outputs": [
    {
     "data": {
      "text/plain": [
       "Intercept                    8.561151\n",
       "I(np.log(GDP_Per_Capita))    6.359936\n",
       "I(Year - 1990)               0.134487\n",
       "dtype: float64"
      ]
     },
     "execution_count": 244,
     "metadata": {},
     "output_type": "execute_result"
    }
   ],
   "source": [
    "lr_log_gdp_year = smf.ols(\"Life_Expectancy ~ I(np.log(GDP_Per_Capita)) + I(Year-1990)\", data=gdp_le).fit()\n",
    "lr_log_gdp_year.params"
   ]
  },
  {
   "cell_type": "code",
   "execution_count": null,
   "id": "9765d0c4-7008-4687-a103-720524649ee6",
   "metadata": {},
   "outputs": [],
   "source": []
  }
 ],
 "metadata": {
  "kernelspec": {
   "display_name": "Python 3 (ipykernel)",
   "language": "python",
   "name": "python3"
  },
  "language_info": {
   "codemirror_mode": {
    "name": "ipython",
    "version": 3
   },
   "file_extension": ".py",
   "mimetype": "text/x-python",
   "name": "python",
   "nbconvert_exporter": "python",
   "pygments_lexer": "ipython3",
   "version": "3.12.4"
  }
 },
 "nbformat": 4,
 "nbformat_minor": 5
}
